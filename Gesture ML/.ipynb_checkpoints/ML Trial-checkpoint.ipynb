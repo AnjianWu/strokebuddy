{
 "cells": [
  {
   "cell_type": "code",
   "execution_count": 161,
   "metadata": {},
   "outputs": [
    {
     "name": "stdout",
     "output_type": "stream",
     "text": [
      "The autoreload extension is already loaded. To reload it, use:\n",
      "  %reload_ext autoreload\n"
     ]
    }
   ],
   "source": [
    "%load_ext autoreload\n",
    "%autoreload 2"
   ]
  },
  {
   "cell_type": "code",
   "execution_count": 167,
   "metadata": {
    "collapsed": true
   },
   "outputs": [],
   "source": [
    "import numpy as np\n",
    "import matplotlib.pyplot as plt\n",
    "import scipy as sp\n",
    "import glob\n",
    "import pandas as pd\n"
   ]
  },
  {
   "cell_type": "code",
   "execution_count": 168,
   "metadata": {},
   "outputs": [
    {
     "data": {
      "text/plain": [
       "['./data/training_data - anjian 3.csv',\n",
       " './data/training_data - anjian 4.csv',\n",
       " './data/training_data.csv',\n",
       " './data/not_pointing - anjian 1.csv',\n",
       " './data/training_data (2).csv']"
      ]
     },
     "execution_count": 168,
     "metadata": {},
     "output_type": "execute_result"
    }
   ],
   "source": [
    "data_files = glob.glob(\"./data//*.csv\")\n",
    "data_files"
   ]
  },
  {
   "cell_type": "code",
   "execution_count": 172,
   "metadata": {},
   "outputs": [
    {
     "name": "stdout",
     "output_type": "stream",
     "text": [
      "Loading... ./data/training_data - anjian 3.csv\n",
      "Loading... ./data/training_data - anjian 4.csv\n",
      "Loading... ./data/training_data.csv\n",
      "Loading... ./data/not_pointing - anjian 1.csv\n",
      "Loading... ./data/training_data (2).csv\n"
     ]
    }
   ],
   "source": [
    "frames = []\n",
    "\n",
    "for file in data_files:\n",
    "    print(\"Loading... %s\"%file)\n",
    "    frames.append(pd.DataFrame.from_csv(file).reset_index())\n",
    "\n",
    "data_df = pd.concat(frames,ignore_index=True)\n"
   ]
  },
  {
   "cell_type": "code",
   "execution_count": 173,
   "metadata": {},
   "outputs": [
    {
     "data": {
      "text/html": [
       "<div>\n",
       "<style>\n",
       "    .dataframe thead tr:only-child th {\n",
       "        text-align: right;\n",
       "    }\n",
       "\n",
       "    .dataframe thead th {\n",
       "        text-align: left;\n",
       "    }\n",
       "\n",
       "    .dataframe tbody tr th {\n",
       "        vertical-align: top;\n",
       "    }\n",
       "</style>\n",
       "<table border=\"1\" class=\"dataframe\">\n",
       "  <thead>\n",
       "    <tr style=\"text-align: right;\">\n",
       "      <th></th>\n",
       "      <th>wrist-x</th>\n",
       "      <th>wrist-y</th>\n",
       "      <th>wrist-z</th>\n",
       "      <th>thumb-x-dip</th>\n",
       "      <th>thumb-y-dip</th>\n",
       "      <th>thumb-z-dip</th>\n",
       "      <th>middle-x-dip</th>\n",
       "      <th>middle-y-dip</th>\n",
       "      <th>middle-z-dip</th>\n",
       "      <th>index-x-dip</th>\n",
       "      <th>...</th>\n",
       "      <th>middle-y-carp</th>\n",
       "      <th>middle-z-carp</th>\n",
       "      <th>index-x-carp</th>\n",
       "      <th>index-y-carp</th>\n",
       "      <th>index-z-carp</th>\n",
       "      <th>ring-x-carp</th>\n",
       "      <th>ring-y-carp</th>\n",
       "      <th>ring-z-carp</th>\n",
       "      <th>grabbing</th>\n",
       "      <th>Unnamed: 52</th>\n",
       "    </tr>\n",
       "  </thead>\n",
       "  <tbody>\n",
       "    <tr>\n",
       "      <th>10738</th>\n",
       "      <td>415.85664</td>\n",
       "      <td>307.0208</td>\n",
       "      <td>70.14168</td>\n",
       "      <td>490.45836</td>\n",
       "      <td>430.9832</td>\n",
       "      <td>-23.395428</td>\n",
       "      <td>484.13172</td>\n",
       "      <td>299.9252</td>\n",
       "      <td>-234.91008</td>\n",
       "      <td>433.65540</td>\n",
       "      <td>...</td>\n",
       "      <td>295.0580</td>\n",
       "      <td>219.56976</td>\n",
       "      <td>439.99968</td>\n",
       "      <td>284.8628</td>\n",
       "      <td>216.21384</td>\n",
       "      <td>400.26432</td>\n",
       "      <td>284.0024</td>\n",
       "      <td>217.44900</td>\n",
       "      <td>1</td>\n",
       "      <td>NaN</td>\n",
       "    </tr>\n",
       "    <tr>\n",
       "      <th>10739</th>\n",
       "      <td>417.04896</td>\n",
       "      <td>319.1456</td>\n",
       "      <td>75.39336</td>\n",
       "      <td>492.84156</td>\n",
       "      <td>442.7192</td>\n",
       "      <td>-18.695844</td>\n",
       "      <td>485.18652</td>\n",
       "      <td>311.5424</td>\n",
       "      <td>-229.55328</td>\n",
       "      <td>435.31932</td>\n",
       "      <td>...</td>\n",
       "      <td>307.7696</td>\n",
       "      <td>224.90172</td>\n",
       "      <td>441.08076</td>\n",
       "      <td>297.6680</td>\n",
       "      <td>221.58504</td>\n",
       "      <td>401.34252</td>\n",
       "      <td>296.9300</td>\n",
       "      <td>222.81120</td>\n",
       "      <td>1</td>\n",
       "      <td>NaN</td>\n",
       "    </tr>\n",
       "    <tr>\n",
       "      <th>10740</th>\n",
       "      <td>417.91692</td>\n",
       "      <td>326.6984</td>\n",
       "      <td>79.57620</td>\n",
       "      <td>492.38508</td>\n",
       "      <td>450.1208</td>\n",
       "      <td>-15.912360</td>\n",
       "      <td>486.11280</td>\n",
       "      <td>316.9244</td>\n",
       "      <td>-225.22896</td>\n",
       "      <td>434.47836</td>\n",
       "      <td>...</td>\n",
       "      <td>317.7848</td>\n",
       "      <td>229.22064</td>\n",
       "      <td>442.14060</td>\n",
       "      <td>307.2080</td>\n",
       "      <td>226.01448</td>\n",
       "      <td>402.41280</td>\n",
       "      <td>306.0344</td>\n",
       "      <td>227.24100</td>\n",
       "      <td>1</td>\n",
       "      <td>NaN</td>\n",
       "    </tr>\n",
       "    <tr>\n",
       "      <th>10741</th>\n",
       "      <td>419.98152</td>\n",
       "      <td>338.4812</td>\n",
       "      <td>84.99276</td>\n",
       "      <td>494.23188</td>\n",
       "      <td>462.7136</td>\n",
       "      <td>-11.476008</td>\n",
       "      <td>488.20584</td>\n",
       "      <td>328.9376</td>\n",
       "      <td>-219.62628</td>\n",
       "      <td>433.97256</td>\n",
       "      <td>...</td>\n",
       "      <td>331.9580</td>\n",
       "      <td>234.75636</td>\n",
       "      <td>444.40284</td>\n",
       "      <td>320.7008</td>\n",
       "      <td>231.61608</td>\n",
       "      <td>404.69988</td>\n",
       "      <td>318.8612</td>\n",
       "      <td>232.82316</td>\n",
       "      <td>1</td>\n",
       "      <td>NaN</td>\n",
       "    </tr>\n",
       "    <tr>\n",
       "      <th>10742</th>\n",
       "      <td>421.01220</td>\n",
       "      <td>344.0000</td>\n",
       "      <td>86.56632</td>\n",
       "      <td>494.57964</td>\n",
       "      <td>469.0712</td>\n",
       "      <td>-9.450936</td>\n",
       "      <td>490.17792</td>\n",
       "      <td>336.1952</td>\n",
       "      <td>-217.80540</td>\n",
       "      <td>433.90200</td>\n",
       "      <td>...</td>\n",
       "      <td>337.7792</td>\n",
       "      <td>236.53620</td>\n",
       "      <td>445.06884</td>\n",
       "      <td>326.2340</td>\n",
       "      <td>233.25120</td>\n",
       "      <td>405.37740</td>\n",
       "      <td>324.0812</td>\n",
       "      <td>234.31968</td>\n",
       "      <td>1</td>\n",
       "      <td>NaN</td>\n",
       "    </tr>\n",
       "  </tbody>\n",
       "</table>\n",
       "<p>5 rows × 53 columns</p>\n",
       "</div>"
      ],
      "text/plain": [
       "         wrist-x   wrist-y   wrist-z  thumb-x-dip  thumb-y-dip  thumb-z-dip  \\\n",
       "10738  415.85664  307.0208  70.14168    490.45836     430.9832   -23.395428   \n",
       "10739  417.04896  319.1456  75.39336    492.84156     442.7192   -18.695844   \n",
       "10740  417.91692  326.6984  79.57620    492.38508     450.1208   -15.912360   \n",
       "10741  419.98152  338.4812  84.99276    494.23188     462.7136   -11.476008   \n",
       "10742  421.01220  344.0000  86.56632    494.57964     469.0712    -9.450936   \n",
       "\n",
       "       middle-x-dip  middle-y-dip  middle-z-dip  index-x-dip     ...       \\\n",
       "10738     484.13172      299.9252    -234.91008    433.65540     ...        \n",
       "10739     485.18652      311.5424    -229.55328    435.31932     ...        \n",
       "10740     486.11280      316.9244    -225.22896    434.47836     ...        \n",
       "10741     488.20584      328.9376    -219.62628    433.97256     ...        \n",
       "10742     490.17792      336.1952    -217.80540    433.90200     ...        \n",
       "\n",
       "       middle-y-carp  middle-z-carp  index-x-carp  index-y-carp  index-z-carp  \\\n",
       "10738       295.0580      219.56976     439.99968      284.8628     216.21384   \n",
       "10739       307.7696      224.90172     441.08076      297.6680     221.58504   \n",
       "10740       317.7848      229.22064     442.14060      307.2080     226.01448   \n",
       "10741       331.9580      234.75636     444.40284      320.7008     231.61608   \n",
       "10742       337.7792      236.53620     445.06884      326.2340     233.25120   \n",
       "\n",
       "       ring-x-carp  ring-y-carp  ring-z-carp  grabbing  Unnamed: 52  \n",
       "10738    400.26432     284.0024    217.44900         1          NaN  \n",
       "10739    401.34252     296.9300    222.81120         1          NaN  \n",
       "10740    402.41280     306.0344    227.24100         1          NaN  \n",
       "10741    404.69988     318.8612    232.82316         1          NaN  \n",
       "10742    405.37740     324.0812    234.31968         1          NaN  \n",
       "\n",
       "[5 rows x 53 columns]"
      ]
     },
     "execution_count": 173,
     "metadata": {},
     "output_type": "execute_result"
    }
   ],
   "source": [
    "data_df.tail()"
   ]
  },
  {
   "cell_type": "code",
   "execution_count": 174,
   "metadata": {
    "collapsed": true
   },
   "outputs": [],
   "source": [
    "x_features = ['wrist-x', 'wrist-y', 'wrist-z', 'thumb-x-dip', 'thumb-y-dip', 'thumb-z-dip',\n",
    "       'middle-x-dip', 'middle-y-dip', 'middle-z-dip', 'index-x-dip',\n",
    "       'index-y-dip', 'index-z-dip', 'ring-x-dip', 'ring-y-dip', 'ring-z-dip',\n",
    "       'thumb-x-mcp', 'thumb-y-mcp', 'thumb-z-mcp', 'middle-x-mcp',\n",
    "       'middle-y-mcp', 'middle-z-mcp', 'index-x-mcp', 'index-y-mcp',\n",
    "       'index-z-mcp', 'ring-x-mcp', 'ring-y-mcp', 'ring-z-mcp', 'thumb-x-pip',\n",
    "       'thumb-y-pip', 'thumb-z-pip', 'middle-x-pip', 'middle-y-pip',\n",
    "       'middle-z-pip', 'index-x-pip', 'index-y-pip', 'index-z-pip',\n",
    "       'ring-x-pip', 'ring-y-pip', 'ring-z-pip', 'thumb-x-carp',\n",
    "       'thumb-y-carp', 'thumb-z-carp', 'middle-x-carp', 'middle-y-carp',\n",
    "       'middle-z-carp', 'index-x-carp', 'index-y-carp', 'index-z-carp',\n",
    "       'ring-x-carp', 'ring-y-carp', 'ring-z-carp']\n",
    "y_label = [\"grabbing\"]"
   ]
  },
  {
   "cell_type": "code",
   "execution_count": 175,
   "metadata": {
    "collapsed": true
   },
   "outputs": [],
   "source": [
    "def calculate_dist(df, x_labels, y_labels):\n",
    "    return np.sqrt(np.sum((df[x_labels].as_matrix() - df[y_labels].as_matrix())**2, axis = 1))"
   ]
  },
  {
   "cell_type": "code",
   "execution_count": 176,
   "metadata": {},
   "outputs": [],
   "source": [
    "dist_features_names = []\n",
    "dist_features = []\n",
    "for i in range(3, len(x_features)-3, 3):\n",
    "    types = x_features[i:i+3]\n",
    "    name = types[0].split(\"-\")[0]+\"_\"+types[0].split(\"-\")[2]\n",
    "    dist_features_names += [name]\n",
    "    \n",
    "    dist_features+= [calculate_dist(data_df,['wrist-x', 'wrist-y', 'wrist-z'], types)]\n",
    "    \n",
    "dist_features = np.array(dist_features).T\n"
   ]
  },
  {
   "cell_type": "code",
   "execution_count": 177,
   "metadata": {},
   "outputs": [],
   "source": [
    "X = pd.DataFrame(dist_features, columns=dist_features_names)\n",
    "X = pd.DataFrame(X.as_matrix()/(X['index_dip'].as_matrix().reshape(len(X),1)),columns=dist_features_names)\n",
    "X = X.drop(\"index_dip\",axis=1)\n",
    "Y = data_df[y_label].as_matrix().reshape(len(data_df),)"
   ]
  },
  {
   "cell_type": "code",
   "execution_count": 178,
   "metadata": {
    "collapsed": true
   },
   "outputs": [],
   "source": [
    "from sklearn.model_selection import train_test_split\n",
    "from sklearn.metrics import roc_curve, auc, accuracy_score\n"
   ]
  },
  {
   "cell_type": "code",
   "execution_count": 180,
   "metadata": {},
   "outputs": [
    {
     "name": "stdout",
     "output_type": "stream",
     "text": [
      "Split into 7197 samples in train and 3546 samples in test\n"
     ]
    }
   ],
   "source": [
    "X_train, X_test, y_train, y_test = train_test_split(X, Y, test_size=0.33)\n",
    "\n",
    "print(\"Split into %s samples in train and %s samples in test\"%(len(y_train), len(y_test)))"
   ]
  },
  {
   "cell_type": "markdown",
   "metadata": {},
   "source": [
    "# ML TIme!"
   ]
  },
  {
   "cell_type": "code",
   "execution_count": 189,
   "metadata": {},
   "outputs": [
    {
     "name": "stdout",
     "output_type": "stream",
     "text": [
      "Model Accuracy Out of Sample = 0.9985899605188945\n"
     ]
    },
    {
     "data": {
      "image/png": "[encoded data removed]",
      "text/plain": [
       "<Figure size 750x750 with 1 Axes>"
      ]
     },
     "metadata": {},
     "output_type": "display_data"
    }
   ],
   "source": [
    "from sklearn.svm import SVC\n",
    "\n",
    "clf = SVC(C=0.5, kernel=\"rbf\", degree=3, probability=True)\n",
    "\n",
    "model = clf.fit(X_train, y_train) \n",
    "\n",
    "y_pred = model.predict(X_test)\n",
    "probs = model.predict_proba(X_test)\n",
    "fpr, tpr, thresholds = roc_curve(y_test, probs[:,1])\n",
    "\n",
    "\n",
    "print(\"Model Accuracy Out of Sample = %s\"%accuracy_score(y_test, y_pred))\n",
    "\n",
    "plt.figure(figsize=[5,5],dpi = 150)\n",
    "\n",
    "plt.title(\"Best Performance of SVM AUC Curve\")\n",
    "\n",
    "plt.plot(fpr,tpr, label = \"AUC = %s\"%auc(fpr, tpr))\n",
    "\n",
    "plt.plot([0,1],[0,1],'--', label = \"AUC = 0.5\")\n",
    "\n",
    "plt.legend()\n",
    "plt.show()"
   ]
  },
  {
   "cell_type": "code",
   "execution_count": 190,
   "metadata": {
    "collapsed": true
   },
   "outputs": [],
   "source": [
    "import pickle\n"
   ]
  },
  {
   "cell_type": "code",
   "execution_count": 191,
   "metadata": {
    "collapsed": true
   },
   "outputs": [],
   "source": [
    "filename = 'gesture_ml_model.sav'\n",
    "pickle.dump(model, open(filename, 'wb'))"
   ]
  },
  {
   "cell_type": "code",
   "execution_count": 193,
   "metadata": {
    "collapsed": true
   },
   "outputs": [],
   "source": [
    "loaded_model = pickle.load(open(filename, 'rb'))\n",
    "y_pred = loaded_model.predict(X_test)\n"
   ]
  },
  {
   "cell_type": "code",
   "execution_count": 194,
   "metadata": {},
   "outputs": [
    {
     "data": {
      "text/plain": [
       "0.9985899605188945"
      ]
     },
     "execution_count": 194,
     "metadata": {},
     "output_type": "execute_result"
    }
   ],
   "source": [
    "accuracy_score(y_test, y_pred)"
   ]
  },
  {
   "cell_type": "markdown",
   "metadata": {},
   "source": [
    "# Simulate JS data"
   ]
  },
  {
   "cell_type": "code",
   "execution_count": 222,
   "metadata": {
    "collapsed": true
   },
   "outputs": [],
   "source": [
    "js_data = '677.46432,457.23000000000013,-54.2322,487.5798,441.7464,-93.31667999999999,554.5668,247.76760000000002,-253.94327999999996,640.0218,224.26680000000022,-290.75219999999996,729.66504,259.3524,-288.74087999999995,629.921064,597.0792,83.81771999999998,589.538352,387.9660000000001,-87.02712,660.95796,389.0279999999999,-101.17872,732.84816,410.06640000000004,-104.4792,536.71476,502.3344000000001,-12.688056,567.882156,295.5,-191.73924,649.2108,282.59039999999993,-218.16684,732.27828,314.73839999999996,-216.39312,629.921064,597.0792,83.81771999999998,666.47964,528.9528000000001,94.08744,704.145,522.1164,80.81748,741.5129999999999,525.8028000000002,65.84796'\n",
    "js_data = js_data.split(\",\")\n",
    "js_data = np.array(js_data).astype(float)"
   ]
  },
  {
   "cell_type": "code",
   "execution_count": 223,
   "metadata": {},
   "outputs": [],
   "source": [
    "js_df = pd.DataFrame([js_data], columns=x_features)"
   ]
  },
  {
   "cell_type": "code",
   "execution_count": 227,
   "metadata": {},
   "outputs": [],
   "source": [
    "dist_features_names = []\n",
    "dist_features = []\n",
    "for i in range(3, len(x_features)-3, 3):\n",
    "    types = x_features[i:i+3]\n",
    "    name = types[0].split(\"-\")[0]+\"_\"+types[0].split(\"-\")[2]\n",
    "    dist_features_names += [name]\n",
    "    \n",
    "    dist_features+= [calculate_dist(js_df,['wrist-x', 'wrist-y', 'wrist-z'], types)]\n",
    "    \n",
    "dist_features = np.array(dist_features).T\n"
   ]
  },
  {
   "cell_type": "code",
   "execution_count": 228,
   "metadata": {},
   "outputs": [],
   "source": [
    "X_js = pd.DataFrame(dist_features, columns=dist_features_names)\n",
    "X_js = pd.DataFrame(X_js.as_matrix()/(X_js['index_dip'].as_matrix().reshape(len(X_js),1)),columns=dist_features_names)\n",
    "X_js = X_js.drop(\"index_dip\",axis=1)"
   ]
  },
  {
   "cell_type": "code",
   "execution_count": 230,
   "metadata": {},
   "outputs": [],
   "source": [
    "y_pred = loaded_model.predict(X_js)"
   ]
  },
  {
   "cell_type": "code",
   "execution_count": 231,
   "metadata": {},
   "outputs": [
    {
     "data": {
      "text/plain": [
       "array([0])"
      ]
     },
     "execution_count": 231,
     "metadata": {},
     "output_type": "execute_result"
    }
   ],
   "source": [
    "y_pred"
   ]
  },
  {
   "cell_type": "code",
   "execution_count": null,
   "metadata": {
    "collapsed": true
   },
   "outputs": [],
   "source": []
  }
 ],
 "metadata": {
  "kernelspec": {
   "display_name": "Python 3",
   "language": "python",
   "name": "python3"
  },
  "language_info": {
   "codemirror_mode": {
    "name": "ipython",
    "version": 3
   },
   "file_extension": ".py",
   "mimetype": "text/x-python",
   "name": "python",
   "nbconvert_exporter": "python",
   "pygments_lexer": "ipython3",
   "version": "3.6.0"
  }
 },
 "nbformat": 4,
 "nbformat_minor": 2
}
