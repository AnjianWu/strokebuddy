{
 "cells": [
  {
   "cell_type": "code",
   "execution_count": 3,
   "metadata": {
    "collapsed": true
   },
   "outputs": [],
   "source": [
    "import numpy as np\n",
    "import matplotlib.pyplot as plt\n",
    "import scipy as sp\n",
    "import glob"
   ]
  },
  {
   "cell_type": "code",
   "execution_count": 44,
   "metadata": {
    "collapsed": true
   },
   "outputs": [],
   "source": [
    "files = sorted(glob.glob(\"./data/hao/*.png\"))"
   ]
  },
  {
   "cell_type": "code",
   "execution_count": 45,
   "metadata": {},
   "outputs": [
    {
     "data": {
      "text/plain": [
       "['./data/hao/frame_00_delay-0.45s.png',\n",
       " './data/hao/frame_01_delay-0.07s.png',\n",
       " './data/hao/frame_02_delay-0.07s.png',\n",
       " './data/hao/frame_03_delay-0.07s.png',\n",
       " './data/hao/frame_04_delay-0.07s.png']"
      ]
     },
     "execution_count": 45,
     "metadata": {},
     "output_type": "execute_result"
    }
   ],
   "source": [
    "files[:5]"
   ]
  },
  {
   "cell_type": "code",
   "execution_count": 9,
   "metadata": {},
   "outputs": [],
   "source": [
    "import imageio\n"
   ]
  },
  {
   "cell_type": "code",
   "execution_count": 16,
   "metadata": {
    "collapsed": true
   },
   "outputs": [],
   "source": [
    "def Calc_Photo_Diff(X,Y):\n",
    "    arr = imageio.imread(X)\n",
    "    # Split the three channels\n",
    "    R = arr[:,:,0]\n",
    "    G = arr[:,:,1]\n",
    "    B = arr[:,:,2]\n",
    "    grey_scaled = R*0.299 + G*0.587 + B*0.114\n",
    "    grey_scaled = 255-grey_scaled\n",
    "    \n",
    "    arr = imageio.imread(Y)\n",
    "    # Split the three channels\n",
    "    R = arr[:,:,0]\n",
    "    G = arr[:,:,1]\n",
    "    B = arr[:,:,2]\n",
    "    grey_scaled2 = R*0.299 + G*0.587 + B*0.114\n",
    "    grey_scaled2 = 255-grey_scaled2\n",
    "    \n",
    "    return grey_scaled2 - grey_scaled\n",
    "    "
   ]
  },
  {
   "cell_type": "code",
   "execution_count": 17,
   "metadata": {},
   "outputs": [],
   "source": [
    "diff = Calc_Photo_Diff(files[0],files[1])"
   ]
  },
  {
   "cell_type": "code",
   "execution_count": 24,
   "metadata": {},
   "outputs": [],
   "source": [
    "diff_signal = []\n",
    "\n",
    "for i in range(len(files)-1):\n",
    "    diff = Calc_Photo_Diff(files[i],files[i+1])\n",
    "    diff_signal += [np.max(np.abs(diff))]"
   ]
  },
  {
   "cell_type": "code",
   "execution_count": 25,
   "metadata": {},
   "outputs": [
    {
     "data": {
      "image/png": "[encoded data removed]",
      "text/plain": [
       "<Figure size 432x288 with 1 Axes>"
      ]
     },
     "metadata": {},
     "output_type": "display_data"
    }
   ],
   "source": [
    "plt.figure()\n",
    "\n",
    "plt.plot(diff_signal)\n",
    "\n",
    "plt.show()"
   ]
  },
  {
   "cell_type": "code",
   "execution_count": 31,
   "metadata": {},
   "outputs": [],
   "source": [
    "def Segment_Signal(X):\n",
    "    i = 0\n",
    "    rising_loc = []\n",
    "    falling_loc = []\n",
    "    thres = 0\n",
    "    rising_edge = True\n",
    "    \n",
    "    while i < len(X):\n",
    "        if rising_edge:\n",
    "            if X[i] > 0:\n",
    "                rising_loc += [i]\n",
    "                rising_edge = False\n",
    "        else:\n",
    "            if X[i] == 0:\n",
    "                falling_loc += [i]\n",
    "                rising_edge = True\n",
    "        i += 1\n",
    "    return rising_loc,falling_loc"
   ]
  },
  {
   "cell_type": "code",
   "execution_count": 33,
   "metadata": {},
   "outputs": [],
   "source": [
    "rising_loc,falling_loc = Segment_Signal(diff_signal)"
   ]
  },
  {
   "cell_type": "code",
   "execution_count": 48,
   "metadata": {
    "collapsed": true
   },
   "outputs": [],
   "source": [
    "from shutil import copyfile\n",
    "\n",
    "target_loc = \"templates/hao/\"\n",
    "i = 1\n",
    "copyfile(files[0], target_loc+\"0.png\")\n",
    "for ele in falling_loc:\n",
    "    \n",
    "    copyfile(files[ele], target_loc+str(i)+\".png\")\n",
    "    i+=1\n"
   ]
  },
  {
   "cell_type": "markdown",
   "metadata": {},
   "source": [
    "# Convert Stroke Images to CSV"
   ]
  },
  {
   "cell_type": "code",
   "execution_count": 70,
   "metadata": {},
   "outputs": [
    {
     "data": {
      "text/plain": [
       "['./templates/hao/0.png',\n",
       " './templates/hao/1.png',\n",
       " './templates/hao/2.png',\n",
       " './templates/hao/3.png',\n",
       " './templates/hao/4.png',\n",
       " './templates/hao/5.png',\n",
       " './templates/hao/6.png',\n",
       " './templates/hao/7.png']"
      ]
     },
     "execution_count": 70,
     "metadata": {},
     "output_type": "execute_result"
    }
   ],
   "source": [
    "tartget_dir = \"./templates/hao/\"\n",
    "files = sorted(glob.glob(tartget_dir+\"*.png\"))\n",
    "files"
   ]
  },
  {
   "cell_type": "code",
   "execution_count": 64,
   "metadata": {
    "collapsed": true
   },
   "outputs": [],
   "source": [
    "templates = []\n",
    "for i in range(len(files)-1):\n",
    "    templates.append((np.array(Calc_Photo_Diff(files[i],files[i+1])) > 0)*1) #Import Grayscale subtraction and convert to BINARY map"
   ]
  },
  {
   "cell_type": "code",
   "execution_count": 66,
   "metadata": {},
   "outputs": [
    {
     "data": {
      "image/png": "[encoded data removed]",
      "text/plain": [
       "<Figure size 432x288 with 1 Axes>"
      ]
     },
     "metadata": {},
     "output_type": "display_data"
    }
   ],
   "source": [
    "plt.figure()\n",
    "\n",
    "plt.imshow(templates[4] , cmap='gray_r')\n",
    "\n",
    "plt.show()"
   ]
  },
  {
   "cell_type": "code",
   "execution_count": 71,
   "metadata": {
    "collapsed": true
   },
   "outputs": [],
   "source": [
    "for template in range(len(templates)):\n",
    "    np.savetxt(tartget_dir+str(template)+'.csv', templates[template].astype(np.int), fmt='%d', delimiter=',')\n"
   ]
  },
  {
   "cell_type": "code",
   "execution_count": null,
   "metadata": {
    "collapsed": true
   },
   "outputs": [],
   "source": []
  }
 ],
 "metadata": {
  "kernelspec": {
   "display_name": "Python 3",
   "language": "python",
   "name": "python3"
  },
  "language_info": {
   "codemirror_mode": {
    "name": "ipython",
    "version": 3
   },
   "file_extension": ".py",
   "mimetype": "text/x-python",
   "name": "python",
   "nbconvert_exporter": "python",
   "pygments_lexer": "ipython3",
   "version": "3.6.0"
  }
 },
 "nbformat": 4,
 "nbformat_minor": 2
}
