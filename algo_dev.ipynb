{
 "cells": [
  {
   "cell_type": "code",
   "execution_count": 1,
   "metadata": {},
   "outputs": [],
   "source": [
    "%load_ext autoreload\n",
    "%autoreload 2"
   ]
  },
  {
   "cell_type": "code",
   "execution_count": 2,
   "metadata": {
    "collapsed": true
   },
   "outputs": [],
   "source": [
    "import numpy as np\n",
    "import matplotlib.pyplot as plt\n",
    "import scipy as sp\n",
    "import glob\n",
    "import imageio\n",
    "import pandas as pd\n",
    "from algorithms import *\n"
   ]
  },
  {
   "cell_type": "code",
   "execution_count": 3,
   "metadata": {
    "collapsed": true
   },
   "outputs": [],
   "source": [
    "char = \"jian\"\n"
   ]
  },
  {
   "cell_type": "code",
   "execution_count": 11,
   "metadata": {},
   "outputs": [
    {
     "name": "stdout",
     "output_type": "stream",
     "text": [
      "Reading ./static/chars/jian/0.csv\n",
      "Reading ./static/chars/jian/1.csv\n",
      "Reading ./static/chars/jian/2.csv\n",
      "Reading ./static/chars/jian/3.csv\n",
      "Reading ./static/chars/jian/4.csv\n",
      "Reading ./static/chars/jian/5.csv\n",
      "Reading ./static/chars/jian/6.csv\n"
     ]
    }
   ],
   "source": [
    "#def Stroke_Detection(char, human_data = \"./static/data.csv\", mean_thres = 10, max_thres = 30):\n",
    "    \n",
    "files = sorted(glob.glob(\"./static/chars/%s/*.csv\"%char))\n",
    "\n",
    "\n",
    "within_group_stats = []\n",
    "for i in range(len(files)):\n",
    "    within_group_stats.append(list(Calc_Max_Min(\"./static/data.csv\", char, i, verbose = False)))\n",
    "\n",
    "within_group_stats = np.array(within_group_stats)\n",
    "\n",
    "smallest_error = np.argmin(within_group_stats[:,0])\n",
    "smallest_max = np.argmin(within_group_stats[:,1])\n",
    "\n",
    "success = False\n",
    "\n",
    "if (within_group_stats[:,0][smallest_error] <= 10) and (within_group_stats[:,1][smallest_error] <= 40):\n",
    "    success = True\n",
    "        \n",
    "#    return success, smallest_error"
   ]
  },
  {
   "cell_type": "code",
   "execution_count": 13,
   "metadata": {},
   "outputs": [],
   "source": [
    "human_data = np.array(pd.read_csv(\"./static/data.csv\"))"
   ]
  },
  {
   "cell_type": "code",
   "execution_count": 14,
   "metadata": {},
   "outputs": [
    {
     "data": {
      "text/plain": [
       "array([[-57.,  55.],\n",
       "       [-56.,  52.],\n",
       "       [-53.,  51.],\n",
       "       [-54.,  55.],\n",
       "       [-54.,  59.],\n",
       "       [-55.,  62.],\n",
       "       [-56.,  66.],\n",
       "       [-57.,  70.],\n",
       "       [-58.,  75.],\n",
       "       [-59.,  78.],\n",
       "       [-60.,  81.],\n",
       "       [-61.,  85.],\n",
       "       [-62.,  89.],\n",
       "       [-63.,  93.],\n",
       "       [-63.,  98.],\n",
       "       [-64., 102.],\n",
       "       [-64., 105.],\n",
       "       [-65., 109.],\n",
       "       [-65., 114.],\n",
       "       [-66., 118.],\n",
       "       [-67., 123.],\n",
       "       [-67., 127.],\n",
       "       [-67., 132.],\n",
       "       [-67., 135.],\n",
       "       [-67., 140.],\n",
       "       [-67., 143.],\n",
       "       [-65., 146.],\n",
       "       [-62., 143.]])"
      ]
     },
     "execution_count": 14,
     "metadata": {},
     "output_type": "execute_result"
    }
   ],
   "source": [
    "human_data"
   ]
  },
  {
   "cell_type": "code",
   "execution_count": 6,
   "metadata": {},
   "outputs": [
    {
     "ename": "NameError",
     "evalue": "name 'files' is not defined",
     "output_type": "error",
     "traceback": [
      "\u001b[0;31m---------------------------------------------------------------------------\u001b[0m",
      "\u001b[0;31mNameError\u001b[0m                                 Traceback (most recent call last)",
      "\u001b[0;32m<ipython-input-6-177d3e69c8e6>\u001b[0m in \u001b[0;36m<module>\u001b[0;34m()\u001b[0m\n\u001b[0;32m----> 1\u001b[0;31m \u001b[0mstroke_datas\u001b[0m \u001b[0;34m=\u001b[0m \u001b[0;34m[\u001b[0m\u001b[0mnp\u001b[0m\u001b[0;34m.\u001b[0m\u001b[0marray\u001b[0m\u001b[0;34m(\u001b[0m\u001b[0mpd\u001b[0m\u001b[0;34m.\u001b[0m\u001b[0mread_csv\u001b[0m\u001b[0;34m(\u001b[0m\u001b[0mx\u001b[0m\u001b[0;34m)\u001b[0m\u001b[0;34m)\u001b[0m \u001b[0;32mfor\u001b[0m \u001b[0mx\u001b[0m \u001b[0;32min\u001b[0m \u001b[0mfiles\u001b[0m\u001b[0;34m]\u001b[0m\u001b[0;34m\u001b[0m\u001b[0m\n\u001b[0m\u001b[1;32m      2\u001b[0m \u001b[0mhuman_data\u001b[0m \u001b[0;34m=\u001b[0m \u001b[0mnp\u001b[0m\u001b[0;34m.\u001b[0m\u001b[0marray\u001b[0m\u001b[0;34m(\u001b[0m\u001b[0mpd\u001b[0m\u001b[0;34m.\u001b[0m\u001b[0mread_csv\u001b[0m\u001b[0;34m(\u001b[0m\u001b[0;34m\"./static/data.csv\"\u001b[0m\u001b[0;34m)\u001b[0m\u001b[0;34m)\u001b[0m\u001b[0;34m\u001b[0m\u001b[0m\n\u001b[1;32m      3\u001b[0m \u001b[0;34m\u001b[0m\u001b[0m\n\u001b[1;32m      4\u001b[0m \u001b[0mplt\u001b[0m\u001b[0;34m.\u001b[0m\u001b[0mfigure\u001b[0m\u001b[0;34m(\u001b[0m\u001b[0mfigsize\u001b[0m\u001b[0;34m=\u001b[0m\u001b[0;34m[\u001b[0m\u001b[0;36m20\u001b[0m\u001b[0;34m,\u001b[0m\u001b[0;36m10\u001b[0m\u001b[0;34m]\u001b[0m\u001b[0;34m)\u001b[0m\u001b[0;34m\u001b[0m\u001b[0m\n\u001b[1;32m      5\u001b[0m \u001b[0;34m\u001b[0m\u001b[0m\n",
      "\u001b[0;31mNameError\u001b[0m: name 'files' is not defined"
     ]
    }
   ],
   "source": [
    "stroke_datas = [np.array(pd.read_csv(x)) for x in files]\n",
    "human_data = np.array(pd.read_csv(\"./static/data.csv\"))\n",
    "\n",
    "plt.figure(figsize=[20,10])\n",
    "\n",
    "for x in range(len(stroke_datas)):\n",
    "    if x == stroke:\n",
    "        plt.imshow(stroke_datas[x], cmap = 'gray_r')\n",
    "\n",
    "plt.scatter(human_data[:,0],human_data[:,1])\n",
    "plt.ylim([250,0])\n",
    "plt.xlim([0,250])\n",
    "\n",
    "plt.show()"
   ]
  },
  {
   "cell_type": "code",
   "execution_count": 8,
   "metadata": {},
   "outputs": [
    {
     "data": {
      "text/plain": [
       "False"
      ]
     },
     "execution_count": 8,
     "metadata": {},
     "output_type": "execute_result"
    }
   ],
   "source": [
    "success"
   ]
  },
  {
   "cell_type": "code",
   "execution_count": 6,
   "metadata": {},
   "outputs": [
    {
     "data": {
      "text/plain": [
       "256"
      ]
     },
     "execution_count": 6,
     "metadata": {},
     "output_type": "execute_result"
    }
   ],
   "source": [
    "os.system(\"open \"+\"./plot.png\")\n"
   ]
  },
  {
   "cell_type": "code",
   "execution_count": null,
   "metadata": {
    "collapsed": true
   },
   "outputs": [],
   "source": []
  }
 ],
 "metadata": {
  "kernelspec": {
   "display_name": "Python 3",
   "language": "python",
   "name": "python3"
  },
  "language_info": {
   "codemirror_mode": {
    "name": "ipython",
    "version": 3
   },
   "file_extension": ".py",
   "mimetype": "text/x-python",
   "name": "python",
   "nbconvert_exporter": "python",
   "pygments_lexer": "ipython3",
   "version": "3.6.0"
  }
 },
 "nbformat": 4,
 "nbformat_minor": 2
}
