{
 "cells": [
  {
   "cell_type": "code",
   "execution_count": 3,
   "metadata": {
    "collapsed": true
   },
   "outputs": [],
   "source": [
    "import numpy as np\n",
    "import matplotlib.pyplot as plt\n",
    "import scipy as sp\n",
    "import glob, os"
   ]
  },
  {
   "cell_type": "code",
   "execution_count": 4,
   "metadata": {},
   "outputs": [
    {
     "data": {
      "text/plain": [
       "['ni',\n",
       " 'ma',\n",
       " 'da',\n",
       " 'jian',\n",
       " 'mei',\n",
       " 'ta2',\n",
       " 'shi',\n",
       " 'hen',\n",
       " 'jia',\n",
       " 'ying',\n",
       " 'guo',\n",
       " 'hao',\n",
       " 'jia2',\n",
       " 'zhu',\n",
       " 'ta',\n",
       " 'zai',\n",
       " 'zhong',\n",
       " 'wo']"
      ]
     },
     "execution_count": 4,
     "metadata": {},
     "output_type": "execute_result"
    }
   ],
   "source": [
    "chars = [x.split(\"/\")[-1] for x in glob.glob(\"./data/*\")]\n",
    "chars\n",
    "\n"
   ]
  },
  {
   "cell_type": "code",
   "execution_count": 12,
   "metadata": {},
   "outputs": [
    {
     "name": "stdout",
     "output_type": "stream",
     "text": [
      "ni\n",
      "ma\n",
      "da\n",
      "jian\n",
      "mei\n",
      "ta2\n",
      "shi\n",
      "hen\n",
      "jia\n",
      "ying\n"
     ]
    },
    {
     "ename": "IndexError",
     "evalue": "list index out of range",
     "output_type": "error",
     "traceback": [
      "\u001b[0;31m---------------------------------------------------------------------------\u001b[0m",
      "\u001b[0;31mIndexError\u001b[0m                                Traceback (most recent call last)",
      "\u001b[0;32m<ipython-input-12-f7f81e42339a>\u001b[0m in \u001b[0;36m<module>\u001b[0;34m()\u001b[0m\n\u001b[1;32m     73\u001b[0m \u001b[0;34m\u001b[0m\u001b[0m\n\u001b[1;32m     74\u001b[0m     \u001b[0mi\u001b[0m \u001b[0;34m=\u001b[0m \u001b[0;36m0\u001b[0m\u001b[0;34m\u001b[0m\u001b[0m\n\u001b[0;32m---> 75\u001b[0;31m     \u001b[0mnp\u001b[0m\u001b[0;34m.\u001b[0m\u001b[0msum\u001b[0m\u001b[0;34m(\u001b[0m\u001b[0mstroke_timing\u001b[0m\u001b[0;34m[\u001b[0m\u001b[0mfalling_loc\u001b[0m\u001b[0;34m[\u001b[0m\u001b[0;34m:\u001b[0m\u001b[0;34m-\u001b[0m\u001b[0;36m1\u001b[0m\u001b[0;34m]\u001b[0m\u001b[0;34m[\u001b[0m\u001b[0mi\u001b[0m\u001b[0;34m]\u001b[0m\u001b[0;34m:\u001b[0m\u001b[0mrising_loc\u001b[0m\u001b[0;34m[\u001b[0m\u001b[0;36m1\u001b[0m\u001b[0;34m:\u001b[0m\u001b[0;34m]\u001b[0m\u001b[0;34m[\u001b[0m\u001b[0mi\u001b[0m\u001b[0;34m]\u001b[0m\u001b[0;34m+\u001b[0m\u001b[0;36m1\u001b[0m\u001b[0;34m]\u001b[0m\u001b[0;34m)\u001b[0m\u001b[0;34m\u001b[0m\u001b[0m\n\u001b[0m\u001b[1;32m     76\u001b[0m \u001b[0;34m\u001b[0m\u001b[0m\n\u001b[1;32m     77\u001b[0m     \u001b[0mpauses\u001b[0m \u001b[0;34m=\u001b[0m \u001b[0;34m[\u001b[0m\u001b[0;34m]\u001b[0m\u001b[0;34m\u001b[0m\u001b[0m\n",
      "\u001b[0;31mIndexError\u001b[0m: list index out of range"
     ]
    }
   ],
   "source": [
    "for char in chars:\n",
    "    print(char)\n",
    "    files = sorted(glob.glob(\"./data/%s/*.png\"%char))\n",
    "\n",
    "    import imageio\n",
    "    arr = imageio.imread(files[10])\n",
    "\n",
    "    arr[:,:,3]\n",
    "\n",
    "    def Calc_Photo_Diff(X,Y):\n",
    "        arr = imageio.imread(X)\n",
    "        # Split the three channels\n",
    "        R = arr[:,:,0]\n",
    "        G = arr[:,:,1]\n",
    "        B = arr[:,:,2]\n",
    "        grey_scaled = R*0.299 + G*0.587 + B*0.114\n",
    "        grey_scaled = 255-grey_scaled\n",
    "\n",
    "        arr = imageio.imread(Y)\n",
    "        # Split the three channels\n",
    "        R = arr[:,:,0]\n",
    "        G = arr[:,:,1]\n",
    "        B = arr[:,:,2]\n",
    "        grey_scaled2 = R*0.299 + G*0.587 + B*0.114\n",
    "        grey_scaled2 = 255-grey_scaled2\n",
    "\n",
    "        return grey_scaled2 - grey_scaled, grey_scaled, grey_scaled2\n",
    "\n",
    "\n",
    "    diff, grey_scaled, grey_scaled2 = Calc_Photo_Diff(files[2],files[5])\n",
    "\n",
    "\n",
    "    diff_signal = []\n",
    "\n",
    "    for i in range(len(files)-1):\n",
    "        diff, grey_scaled, grey_scaled2 = Calc_Photo_Diff(files[i],files[i+1])\n",
    "        diff_signal += [np.max(np.abs(diff))]\n",
    "\n",
    "    plt.figure(figsize=[20,10])\n",
    "\n",
    "    plt.plot(diff_signal)\n",
    "\n",
    "    #plt.show()\n",
    "\n",
    "    stroke_timing = [float(x.split(\"/\")[-1].split(\"-\")[-1][:-5]) for x in files]\n",
    "\n",
    "    def Segment_Signal(X):\n",
    "        i = 0\n",
    "        rising_loc = []\n",
    "        falling_loc = []\n",
    "        thres = 0\n",
    "        rising_edge = True\n",
    "\n",
    "        while i < len(X):\n",
    "            if rising_edge:\n",
    "                if X[i] > 0:\n",
    "                    rising_loc += [i]\n",
    "                    rising_edge = False\n",
    "            else:\n",
    "                if X[i] == 0:\n",
    "                    falling_loc += [i]\n",
    "                    rising_edge = True\n",
    "            i += 1\n",
    "        return rising_loc,falling_loc\n",
    "\n",
    "    rising_loc,falling_loc = Segment_Signal(diff_signal)\n",
    "\n",
    "    \n",
    "\n",
    "    rising_loc[1:]\n",
    "\n",
    "    falling_loc[:-1]\n",
    "\n",
    "    i = 0\n",
    "    np.sum(stroke_timing[falling_loc[:-1][i]:rising_loc[1:][i]+1])\n",
    "\n",
    "    pauses = []\n",
    "    for i in range(len(rising_loc[1:])):\n",
    "        pauses += [np.sum(stroke_timing[falling_loc[:-1][i]:rising_loc[1:][i]+1])]\n",
    "\n",
    "    pauses\n",
    "\n",
    "    falling_loc\n",
    "\n",
    "    final_segmentation = []\n",
    "\n",
    "    for i in range(len(pauses)):\n",
    "        if pauses[i] >= 0.2:\n",
    "            final_segmentation.append(falling_loc[i])\n",
    "    final_segmentation.append(falling_loc[-1])\n",
    "\n",
    "    final_segmentation\n",
    "\n",
    "    from shutil import copyfile\n",
    "\n",
    "    target_loc = \"chars/%s/\"%char\n",
    "\n",
    "    if not os.path.exists(target_loc):\n",
    "        os.makedirs(target_loc)\n",
    "\n",
    "    i = 1\n",
    "    copyfile(files[0], target_loc+\"0.png\")\n",
    "    for ele in final_segmentation:\n",
    "\n",
    "        copyfile(files[ele], target_loc+str(i)+\".png\")\n",
    "        i+=1\n",
    "\n",
    "\n",
    "    # Convert Stroke Images to CSV\n",
    "\n",
    "    tartget_dir = target_loc\n",
    "    files = sorted(glob.glob(tartget_dir+\"*.png\"))\n",
    "    files\n",
    "\n",
    "    templates = []\n",
    "    for i in range(len(files)-1):\n",
    "        x,y,z = Calc_Photo_Diff(files[i],files[i+1])\n",
    "        templates.append((np.array(x) > 0)*1) #Import Grayscale subtraction and convert to BINARY map\n",
    "\n",
    "    for template in range(len(templates)):\n",
    "        np.savetxt(tartget_dir+str(template)+'.csv', templates[template].astype(np.int), fmt='%d', delimiter=',')\n",
    "\n",
    "\n"
   ]
  },
  {
   "cell_type": "code",
   "execution_count": 6,
   "metadata": {},
   "outputs": [
    {
     "data": {
      "text/plain": [
       "[18, 29, 37, 57, 71, 96]"
      ]
     },
     "execution_count": 6,
     "metadata": {},
     "output_type": "execute_result"
    }
   ],
   "source": [
    "final_segmentation"
   ]
  },
  {
   "cell_type": "code",
   "execution_count": 9,
   "metadata": {},
   "outputs": [
    {
     "data": {
      "text/plain": [
       "(3, 250, 250)"
      ]
     },
     "execution_count": 9,
     "metadata": {},
     "output_type": "execute_result"
    }
   ],
   "source": [
    "templates[0].shape"
   ]
  },
  {
   "cell_type": "code",
   "execution_count": null,
   "metadata": {
    "collapsed": true
   },
   "outputs": [],
   "source": []
  }
 ],
 "metadata": {
  "kernelspec": {
   "display_name": "Python 3",
   "language": "python",
   "name": "python3"
  },
  "language_info": {
   "codemirror_mode": {
    "name": "ipython",
    "version": 3
   },
   "file_extension": ".py",
   "mimetype": "text/x-python",
   "name": "python",
   "nbconvert_exporter": "python",
   "pygments_lexer": "ipython3",
   "version": "3.6.0"
  }
 },
 "nbformat": 4,
 "nbformat_minor": 2
}
