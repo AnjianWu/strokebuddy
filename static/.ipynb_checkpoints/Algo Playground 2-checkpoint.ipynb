{
 "cells": [
  {
   "cell_type": "code",
   "execution_count": 4,
   "metadata": {
    "collapsed": true
   },
   "outputs": [],
   "source": [
    "import numpy as np\n",
    "import matplotlib.pyplot as plt\n",
    "import scipy as sp\n",
    "import glob\n",
    "import imageio\n",
    "import pandas as pd"
   ]
  },
  {
   "cell_type": "code",
   "execution_count": 15,
   "metadata": {},
   "outputs": [
    {
     "data": {
      "text/plain": [
       "['./chars/ta/0.csv',\n",
       " './chars/ta/1.csv',\n",
       " './chars/ta/2.csv',\n",
       " './chars/ta/3.csv',\n",
       " './chars/ta/4.csv',\n",
       " './chars/ta/5.csv',\n",
       " './chars/ta/6.csv',\n",
       " './chars/ta/7.csv']"
      ]
     },
     "execution_count": 15,
     "metadata": {},
     "output_type": "execute_result"
    }
   ],
   "source": [
    "char = \"ta\"\n",
    "files = sorted(glob.glob(\"./chars/%s/*.csv\"%char))\n",
    "files"
   ]
  },
  {
   "cell_type": "code",
   "execution_count": 16,
   "metadata": {
    "collapsed": true
   },
   "outputs": [],
   "source": [
    "stroke_datas = [np.array(pd.read_csv(x)) for x in files]"
   ]
  },
  {
   "cell_type": "code",
   "execution_count": 17,
   "metadata": {
    "collapsed": true
   },
   "outputs": [],
   "source": [
    "human_data = np.array(pd.read_csv(\"./data.csv\"))"
   ]
  },
  {
   "cell_type": "code",
   "execution_count": 18,
   "metadata": {},
   "outputs": [
    {
     "data": {
      "image/png": "[encoded data removed]",
      "text/plain": [
       "<Figure size 432x288 with 1 Axes>"
      ]
     },
     "metadata": {},
     "output_type": "display_data"
    }
   ],
   "source": [
    "plt.figure()\n",
    "\n",
    "plt.imshow(stroke_datas[0], cmap = 'gray_r')\n",
    "plt.scatter(human_data[:,0],human_data[:,1])\n",
    "plt.ylim([250,0])\n",
    "plt.xlim([0,250])\n",
    "\n",
    "plt.show()"
   ]
  },
  {
   "cell_type": "code",
   "execution_count": 17,
   "metadata": {},
   "outputs": [
    {
     "data": {
      "image/png": "[encoded data removed]",
      "text/plain": [
       "<Figure size 432x288 with 1 Axes>"
      ]
     },
     "metadata": {},
     "output_type": "display_data"
    }
   ],
   "source": [
    "plt.figure()\n",
    "plt.imshow(stroke_data, cmap = 'gray_r')\n",
    "\n",
    "plt.scatter(human_data[:,0],human_data[:,1])\n",
    "plt.ylim([0,250])\n",
    "plt.xlim([0,250])\n",
    "plt.show()"
   ]
  },
  {
   "cell_type": "code",
   "execution_count": 32,
   "metadata": {},
   "outputs": [
    {
     "data": {
      "text/plain": [
       "(array([ 28,  28,  28, ..., 193, 193, 193]),\n",
       " array([ 70,  71,  72, ..., 106, 107, 108]))"
      ]
     },
     "execution_count": 32,
     "metadata": {},
     "output_type": "execute_result"
    }
   ],
   "source": [
    "#numpy.where(x == 0)[0]\n",
    "(stroke_ypts,stroke_xpts) = np.where(stroke_data == 1)\n",
    "np.where(stroke_data == 1)"
   ]
  },
  {
   "cell_type": "code",
   "execution_count": 40,
   "metadata": {},
   "outputs": [
    {
     "data": {
      "image/png": "[encoded data removed]",
      "text/plain": [
       "<Figure size 432x288 with 1 Axes>"
      ]
     },
     "metadata": {},
     "output_type": "display_data"
    }
   ],
   "source": [
    "plt.figure()\n",
    "plt.imshow(stroke_data, cmap = 'gray_r')\n",
    "\n",
    "plt.scatter(stroke_xpts,stroke_ypts, alpha = 0.05)\n",
    "plt.ylim([0,250])\n",
    "plt.xlim([0,250])\n",
    "plt.show()"
   ]
  },
  {
   "cell_type": "code",
   "execution_count": 45,
   "metadata": {
    "collapsed": true
   },
   "outputs": [],
   "source": [
    "#Determine Maximum Minimum Distance Between Char Points to Drawn Shape\n",
    "num_data_points = human_data.shape[0]\n",
    "mins = []\n",
    "\n",
    "(stroke_ypts,stroke_xpts) = np.where(stroke_data == 1) #Find where Stroke is Non-zero\n",
    "\n",
    "for j in range(len(stroke_xpts)):\n",
    "    dist = []\n",
    "\n",
    "    for i in range(num_data_points):\n",
    "        x_pt = human_data[i][0]\n",
    "        y_pt = human_data[i][1]\n",
    "        dist += [np.sqrt((stroke_xpts[j] - x_pt)**2+(stroke_ypts[j] - y_pt)**2)]\n",
    "    mins += [np.min(dist)]\n",
    "    "
   ]
  },
  {
   "cell_type": "code",
   "execution_count": 47,
   "metadata": {},
   "outputs": [
    {
     "data": {
      "text/plain": [
       "5.487879356388136"
      ]
     },
     "execution_count": 47,
     "metadata": {},
     "output_type": "execute_result"
    }
   ],
   "source": [
    "np.mean(mins)"
   ]
  },
  {
   "cell_type": "code",
   "execution_count": 31,
   "metadata": {},
   "outputs": [
    {
     "data": {
      "text/plain": [
       "75.13321502504735"
      ]
     },
     "execution_count": 31,
     "metadata": {},
     "output_type": "execute_result"
    }
   ],
   "source": [
    "np.max(mins)"
   ]
  },
  {
   "cell_type": "code",
   "execution_count": 23,
   "metadata": {
    "collapsed": true
   },
   "outputs": [],
   "source": [
    "def Calc_Max_Min(data_file, char_name, index, verbose = False):\n",
    "    \n",
    "    #Import Human Data\n",
    "    human_data = np.array(pd.read_csv(data_file))\n",
    "    \n",
    "    \n",
    "    # Load Reference Data\n",
    "    files = sorted(glob.glob(\"./chars/\"+char_name+\"/*.png\"))\n",
    "    stroke_data = Convert_Diff_To_Bitmap(files[index-1],files[index])\n",
    "    \n",
    "    #Determine Minimum Distance Between Char Points to Drawn Shape\n",
    "    num_data_points = human_data.shape[0]\n",
    "    mins = []\n",
    "\n",
    "    (stroke_xpts,stroke_ypts) = np.where(stroke_data == 1) #Find where Stroke is Non-zero\n",
    "\n",
    "    for j in range(len(stroke_xpts)):\n",
    "        dist = []\n",
    "\n",
    "        for i in range(num_data_points):\n",
    "            x_pt = human_data[i][0]\n",
    "            y_pt = human_data[i][1]\n",
    "            dist += [np.sqrt((stroke_xpts[j] - x_pt)**2+(stroke_ypts[j] - y_pt)**2)]\n",
    "        mins += [np.min(dist)]\n",
    "        \n",
    "    #plot image for fun!\n",
    "    \n",
    "    if verbose:\n",
    "        plt.figure(figsize=[20,10])\n",
    "        \n",
    "        plt.title(\"Minimum Distance Stats (Pixels): Mean = %s, Max = %s\"%(round(np.mean(mins),1), round(np.max(mins),1)))\n",
    "        \n",
    "        plt.imshow(stroke_data, cmap = 'gray_r')\n",
    "\n",
    "        plt.scatter(human_data[:,0],human_data[:,1])\n",
    "        plt.ylim([250,0])\n",
    "        plt.xlim([0,250])\n",
    "        plt.show()\n",
    "        \n",
    "    return np.mean(mins)"
   ]
  },
  {
   "cell_type": "code",
   "execution_count": 24,
   "metadata": {},
   "outputs": [
    {
     "data": {
      "image/png": "[encoded data removed]",
      "text/plain": [
       "<Figure size 1440x720 with 1 Axes>"
      ]
     },
     "metadata": {},
     "output_type": "display_data"
    },
    {
     "data": {
      "text/plain": [
       "38.08972903425091"
      ]
     },
     "execution_count": 24,
     "metadata": {},
     "output_type": "execute_result"
    }
   ],
   "source": [
    "Calc_Max_Min(\"data.csv\", \"hao\", 1, verbose = True)"
   ]
  },
  {
   "cell_type": "code",
   "execution_count": 5,
   "metadata": {
    "collapsed": true
   },
   "outputs": [],
   "source": [
    "import os"
   ]
  },
  {
   "cell_type": "code",
   "execution_count": 6,
   "metadata": {},
   "outputs": [
    {
     "data": {
      "text/plain": [
       "256"
      ]
     },
     "execution_count": 6,
     "metadata": {},
     "output_type": "execute_result"
    }
   ],
   "source": [
    "os.system(\"open \"+\"./plot.png\")\n"
   ]
  },
  {
   "cell_type": "code",
   "execution_count": null,
   "metadata": {
    "collapsed": true
   },
   "outputs": [],
   "source": []
  }
 ],
 "metadata": {
  "kernelspec": {
   "display_name": "Python 3",
   "language": "python",
   "name": "python3"
  },
  "language_info": {
   "codemirror_mode": {
    "name": "ipython",
    "version": 3
   },
   "file_extension": ".py",
   "mimetype": "text/x-python",
   "name": "python",
   "nbconvert_exporter": "python",
   "pygments_lexer": "ipython3",
   "version": "3.6.0"
  }
 },
 "nbformat": 4,
 "nbformat_minor": 2
}
